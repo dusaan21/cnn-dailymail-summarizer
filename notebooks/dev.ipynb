{
  "cells": [
    {
      "cell_type": "code",
      "execution_count": null,
      "metadata": {
        "id": "XgbJFu4PLPkI"
      },
      "outputs": [],
      "source": [
        "from google.colab import drive\n",
        "drive.mount('/content/drive')\n",
        "import os\n",
        "project_dir = '/content/drive/My Drive/cnn-dailymail-summarizer'\n",
        "os.chdir(project_dir)\n",
        "\n",
        "!pip install -r requirements.txt"
      ]
    },
    {
      "cell_type": "code",
      "execution_count": null,
      "metadata": {
        "id": "jZklMGKwJR7D"
      },
      "outputs": [],
      "source": [
        "\n",
        "import pandas as pd\n",
        "from cnn_dailymail_news_text_summarizer.dataset import load_datasets, remove_punctuation, preprocess_text, tokenize, save_tokenized_datasets, load_tokenized_datasets\n",
        "from cnn_dailymail_news_text_summarizer.plots import plot_num_characters, plot_num_words, plot_num_sentences, plot_mean_word_length, create_corpus, plot_most_frequent_stopwords, plot_most_frequent_words, get_top_ngram\n",
        "from cnn_dailymail_news_text_summarizer.training import train_model\n",
        "from matplotlib import pyplot as plt\n",
        "import numpy as np\n",
        "import seaborn as sns\n",
        "import nltk\n",
        "from collections import Counter\n",
        "from collections import defaultdict\n",
        "import re\n",
        "from sklearn.feature_extraction.text import CountVectorizer\n",
        "from transformers import BartForConditionalGeneration, BartTokenizer, DataCollatorForSeq2Seq, AutoModelForSeq2SeqLM, Seq2SeqTrainingArguments, Seq2SeqTrainer\n",
        "from datasets import Dataset, concatenate_datasets\n",
        "import torch\n",
        "import evaluate"
      ]
    },
    {
      "cell_type": "code",
      "execution_count": null,
      "metadata": {
        "id": "AQU2N8CxjSg2"
      },
      "outputs": [],
      "source": [
        "if torch.cuda.is_available():\n",
        "    device_name = torch.device(\"cuda\")\n",
        "else:\n",
        "    device_name = torch.device('cpu')\n",
        "print(\"Using {}.\".format(device_name))"
      ]
    },
    {
      "cell_type": "markdown",
      "metadata": {
        "id": "7PMZ8Cc0JR7E"
      },
      "source": [
        "## Loading Data"
      ]
    },
    {
      "cell_type": "code",
      "execution_count": null,
      "metadata": {
        "id": "q0TZSQPYJR7G"
      },
      "outputs": [],
      "source": [
        "\n",
        "train_path = os.path.join(project_dir, 'data/raw/cnn_dailymail/train.csv')\n",
        "test_path = os.path.join(project_dir, 'data/raw/cnn_dailymail/test.csv')\n",
        "val_path = os.path.join(project_dir, 'data/raw/cnn_dailymail/validation.csv')\n"
      ]
    },
    {
      "cell_type": "code",
      "execution_count": null,
      "metadata": {
        "id": "7BQG0kL4JR7G"
      },
      "outputs": [],
      "source": [
        "train_data, test_data, val_data = load_datasets(train_path, test_path, val_path)"
      ]
    },
    {
      "cell_type": "code",
      "execution_count": null,
      "metadata": {
        "id": "E7pfifNlJR7H"
      },
      "outputs": [],
      "source": [
        "train_data.head()"
      ]
    },
    {
      "cell_type": "markdown",
      "metadata": {
        "id": "LrU2AQ_UJR7H"
      },
      "source": [
        "## Exploratory Data Analysis\n",
        "\n"
      ]
    },
    {
      "cell_type": "code",
      "execution_count": null,
      "metadata": {
        "id": "-cXr21O65QhU"
      },
      "outputs": [],
      "source": [
        "sample = train_data.sample()\n",
        "list(sample['article'])"
      ]
    },
    {
      "cell_type": "code",
      "execution_count": null,
      "metadata": {
        "id": "v_1d7alg594U"
      },
      "outputs": [],
      "source": [
        "list(sample['highlights'])"
      ]
    },
    {
      "cell_type": "code",
      "execution_count": null,
      "metadata": {
        "id": "FnUR2P34JR7H"
      },
      "outputs": [],
      "source": [
        "len(train_data)"
      ]
    },
    {
      "cell_type": "markdown",
      "metadata": {
        "id": "IY9WelIl8dD_"
      },
      "source": [
        "### Counts and Lengths"
      ]
    },
    {
      "cell_type": "code",
      "execution_count": null,
      "metadata": {
        "id": "jblbU7W4V7Bt"
      },
      "outputs": [],
      "source": [
        "eda_data = train_data.sample(frac=0.1)"
      ]
    },
    {
      "cell_type": "code",
      "execution_count": null,
      "metadata": {
        "id": "laT4_EJ1JR7H"
      },
      "outputs": [],
      "source": [
        "plot_num_characters(eda_data, 'article')"
      ]
    },
    {
      "cell_type": "code",
      "execution_count": null,
      "metadata": {
        "id": "NgvePdElJR7I"
      },
      "outputs": [],
      "source": [
        "plot_num_words(eda_data, 'article')"
      ]
    },
    {
      "cell_type": "code",
      "execution_count": null,
      "metadata": {
        "id": "iLIBBNl14BP9"
      },
      "outputs": [],
      "source": [
        "nltk.download('punkt')"
      ]
    },
    {
      "cell_type": "code",
      "execution_count": null,
      "metadata": {
        "id": "hcxuMs0N2adS"
      },
      "outputs": [],
      "source": [
        "plot_num_sentences(eda_data, 'article')"
      ]
    },
    {
      "cell_type": "code",
      "execution_count": null,
      "metadata": {
        "id": "dtKvQLuDJR7J"
      },
      "outputs": [],
      "source": [
        "plot_mean_word_length(eda_data, 'article')"
      ]
    },
    {
      "cell_type": "code",
      "execution_count": null,
      "metadata": {
        "id": "rd80Px470pK0"
      },
      "outputs": [],
      "source": [
        "plot_num_characters(eda_data, 'highlights')"
      ]
    },
    {
      "cell_type": "code",
      "execution_count": null,
      "metadata": {
        "id": "A81bdVMx1I2s"
      },
      "outputs": [],
      "source": [
        "plot_num_words(eda_data, 'highlights')"
      ]
    },
    {
      "cell_type": "code",
      "execution_count": null,
      "metadata": {
        "id": "won0nMQZ7EGC"
      },
      "outputs": [],
      "source": [
        "plot_num_sentences(eda_data, 'highlights')"
      ]
    },
    {
      "cell_type": "markdown",
      "metadata": {
        "id": "iwXTy1cw8-db"
      },
      "source": [
        "### Term frequency"
      ]
    },
    {
      "cell_type": "code",
      "execution_count": null,
      "metadata": {
        "id": "go0xV1Fo9Cbh"
      },
      "outputs": [],
      "source": [
        "eda_data.drop('mean_word_length', axis=1, inplace=True)"
      ]
    },
    {
      "cell_type": "code",
      "execution_count": null,
      "metadata": {
        "id": "40jrHzox-ACf"
      },
      "outputs": [],
      "source": [
        "nltk.download('stopwords')"
      ]
    },
    {
      "cell_type": "code",
      "execution_count": null,
      "metadata": {
        "id": "oJ9JvFMBLnWZ"
      },
      "outputs": [],
      "source": [
        "stop = set(nltk.corpus.stopwords.words('english'))"
      ]
    },
    {
      "cell_type": "code",
      "execution_count": null,
      "metadata": {
        "id": "1UvYyEOPxp6y"
      },
      "outputs": [],
      "source": [
        "plot_most_frequent_stopwords(eda_data, stop)"
      ]
    },
    {
      "cell_type": "code",
      "execution_count": null,
      "metadata": {
        "id": "raSPejOox2p1"
      },
      "outputs": [],
      "source": [
        "plot_most_frequent_words(eda_data, stop)"
      ]
    },
    {
      "cell_type": "markdown",
      "metadata": {
        "id": "8WjGmeRaYm_z"
      },
      "source": [
        "### N-gram frequency"
      ]
    },
    {
      "cell_type": "code",
      "execution_count": null,
      "metadata": {
        "id": "vP6RjPiOYMTV"
      },
      "outputs": [],
      "source": [
        "eda_data = eda_data.sample(frac=0.1)"
      ]
    },
    {
      "cell_type": "code",
      "execution_count": null,
      "metadata": {
        "id": "v4k4NZTymTq0"
      },
      "outputs": [],
      "source": [
        "get_top_ngram(eda_data, list(stop), 2)"
      ]
    },
    {
      "cell_type": "code",
      "execution_count": null,
      "metadata": {
        "id": "cBFZr7-1odn5"
      },
      "outputs": [],
      "source": [
        "get_top_ngram(eda_data, list(stop), 3)"
      ]
    },
    {
      "cell_type": "code",
      "execution_count": null,
      "metadata": {
        "id": "AAlrcAU8z0rj"
      },
      "outputs": [],
      "source": [
        "get_top_ngram(eda_data, list(stop), 5)"
      ]
    },
    {
      "cell_type": "markdown",
      "metadata": {
        "id": "peyTO51caRZi"
      },
      "source": [
        "## Data Preprocessing"
      ]
    },
    {
      "cell_type": "code",
      "execution_count": null,
      "metadata": {
        "id": "-LOYJlY9aVRa"
      },
      "outputs": [],
      "source": [
        "checkpoint = \"facebook/bart-base\""
      ]
    },
    {
      "cell_type": "code",
      "execution_count": null,
      "metadata": {
        "id": "Nt-W6XMuajHx"
      },
      "outputs": [],
      "source": [
        "tokenizer = BartTokenizer.from_pretrained(checkpoint)"
      ]
    },
    {
      "cell_type": "code",
      "execution_count": null,
      "metadata": {
        "id": "QyEJaYcwa58d"
      },
      "outputs": [],
      "source": [
        "tokenizer(train_data['article'][0])"
      ]
    },
    {
      "cell_type": "code",
      "execution_count": null,
      "metadata": {
        "id": "_yozr9-_l0Fj"
      },
      "outputs": [],
      "source": [
        "train_data = train_data.sample(frac=0.2, random_state=42)\n",
        "val_data = val_data.sample(frac=0.2, random_state=42)\n",
        "test_data = test_data.sample(frac=0.2, random_state=42)"
      ]
    },
    {
      "cell_type": "code",
      "execution_count": null,
      "metadata": {
        "id": "q7YCBgq_JBPk"
      },
      "outputs": [],
      "source": [
        "train_data = tokenize(train_data, tokenizer)"
      ]
    },
    {
      "cell_type": "code",
      "execution_count": null,
      "metadata": {
        "id": "6TDgIwdENIF9"
      },
      "outputs": [],
      "source": [
        "#print(train_data)"
      ]
    },
    {
      "cell_type": "code",
      "execution_count": null,
      "metadata": {
        "id": "jBeS2Vg423ZE"
      },
      "outputs": [],
      "source": [
        "val_data = tokenize(val_data, tokenizer)"
      ]
    },
    {
      "cell_type": "code",
      "execution_count": null,
      "metadata": {
        "id": "BDysCO1wyVXi"
      },
      "outputs": [],
      "source": [
        "test_data = tokenize(test_data, tokenizer)"
      ]
    },
    {
      "cell_type": "code",
      "execution_count": null,
      "metadata": {
        "id": "RF14uoMMyYjW"
      },
      "outputs": [],
      "source": [
        "processed_path = os.path.join(project_dir, 'data/processed/')\n"
      ]
    },
    {
      "cell_type": "code",
      "execution_count": null,
      "metadata": {
        "id": "5EoGn0_oz2O6"
      },
      "outputs": [],
      "source": [
        "save_tokenized_datasets(train_data, test_data, val_data, processed_path)\n",
        "#train_data, test_data, val_data = load_tokenized_datasets(processed_path)"
      ]
    },
    {
      "cell_type": "markdown",
      "metadata": {
        "id": "v0hAF9txKRhl"
      },
      "source": [
        "## Fine-tuning"
      ]
    },
    {
      "cell_type": "code",
      "execution_count": null,
      "metadata": {
        "id": "pNi5edG8iqtC"
      },
      "outputs": [],
      "source": [
        "data_collator = DataCollatorForSeq2Seq(tokenizer=tokenizer, model=checkpoint, padding=True)"
      ]
    },
    {
      "cell_type": "code",
      "execution_count": null,
      "metadata": {
        "id": "ytT5HidHi_op"
      },
      "outputs": [],
      "source": [
        "rouge = evaluate.load(\"rouge\")"
      ]
    },
    {
      "cell_type": "code",
      "execution_count": null,
      "metadata": {
        "id": "mkKylZ360h0-"
      },
      "outputs": [],
      "source": [
        "training_args = Seq2SeqTrainingArguments(\n",
        "    output_dir='../model',\n",
        "    num_train_epochs=2,\n",
        "    per_device_train_batch_size=16,\n",
        "    per_device_eval_batch_size=32,\n",
        "    gradient_accumulation_steps=4,\n",
        "    warmup_steps=100,\n",
        "    weight_decay=0.01,\n",
        "    logging_dir='../logs',\n",
        "    logging_steps=10,\n",
        "    evaluation_strategy=\"epoch\",\n",
        "    save_total_limit=2,\n",
        "    save_strategy=\"epoch\",\n",
        "    load_best_model_at_end=True,\n",
        "    predict_with_generate=True,\n",
        "    fp16=True,\n",
        "    remove_unused_columns=True,\n",
        "    save_safetensors=False\n",
        ")\n"
      ]
    },
    {
      "cell_type": "code",
      "execution_count": null,
      "metadata": {
        "id": "BM1fjDXqy8DW"
      },
      "outputs": [],
      "source": [
        "train_model(train_data, val_data, tokenizer, data_collator, training_args, device_name, rouge, checkpoint=False)"
      ]
    },
    {
      "cell_type": "code",
      "execution_count": null,
      "metadata": {
        "id": "qyv-fecPZwmM"
      },
      "outputs": [],
      "source": [
        "torch.cuda.empty_cache()"
      ]
    },
    {
      "cell_type": "markdown",
      "metadata": {
        "id": "kGWVUFKtK4LF"
      },
      "source": [
        "## Evaluation"
      ]
    },
    {
      "cell_type": "code",
      "execution_count": null,
      "metadata": {
        "id": "BvHzJYa-dlbo"
      },
      "outputs": [],
      "source": [
        "model = BartForConditionalGeneration.from_pretrained('./model/checkpoint-44')\n",
        "example_text = \"The Philadelphia 76ers look forward to watching the team’s All-Star center Joel Embiid compete at the Paris Olympics over the next couple of weeks. Sunday morning would mark the first time Embiid will officially compete in a meaningful game on the international stage since his basketball career started. Leading up to the matchup, Embiid’s playing status went into question, however. On Saturday, Team USA prepared for its battle against Serbia with a practice session. Multiple players were noticeably absent and Embiid was one of them. According to ESPN’s Brian Windhorst, Embiid was dealing with an illness. The big man joined his temporary teammate by missing practice as Los Angeles Lakers big man Anthony Davis was a non-participant as well. According to the report, Davis was dealing with an illness for several days leading up to Saturday’s session. Following Team USA’s practice session, Golden State Warriors head coach Steve Kerr addressed the media and acknowledged the absences. He wasn’t concerned and believed that Team USA would have its full roster ready to go for the debut against Serbia. I'm confident we'll have everybody ready, Kerr told reporters. As USA boarded the bus to head to the arena for their first game, Embiid was spotted with the team, along with Davis. All signs point to the two NBA veterans suiting up and competing.\"\n",
        "inputs = tokenizer(example_text, max_length=1024, return_tensors='pt', truncation=True)\n",
        "summary_ids = model.generate(inputs['input_ids'], num_beams=4, max_length=128, early_stopping=True)\n",
        "summary = tokenizer.decode(summary_ids[0], skip_special_tokens=True)\n",
        "print(\"Summary:\", summary)\n"
      ]
    }
  ],
  "metadata": {
    "accelerator": "GPU",
    "colab": {
      "gpuType": "T4",
      "provenance": []
    },
    "kernelspec": {
      "display_name": "Python 3",
      "name": "python3"
    },
    "language_info": {
      "codemirror_mode": {
        "name": "ipython",
        "version": 3
      },
      "file_extension": ".py",
      "mimetype": "text/x-python",
      "name": "python",
      "nbconvert_exporter": "python",
      "pygments_lexer": "ipython3",
      "version": "3.10.7"
    }
  },
  "nbformat": 4,
  "nbformat_minor": 0
}
